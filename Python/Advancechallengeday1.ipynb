{
 "cells": [
  {
   "cell_type": "code",
   "execution_count": 3,
   "id": "e30e66c1",
   "metadata": {},
   "outputs": [
    {
     "name": "stdout",
     "output_type": "stream",
     "text": [
      "=== Transaction Summary ===\n",
      "Total Income: 600\n",
      "Total Expense: 600\n",
      "Net Balance: 0\n",
      "Income Transactions: [500, 100]\n",
      "Expense Transactions: [-200, -300, -100]\n"
     ]
    }
   ],
   "source": [
    "def analyze_transactions(transactions):\n",
    "    '''\n",
    "    Analyze a list of transactions:\n",
    "    +ve numbers -> income\n",
    "    -ve -> expenses\n",
    "    Returns total income, total expense, and net balance.\n",
    "    '''\n",
    "    #initialize totals and separate lists\n",
    "    income_total=0\n",
    "    expense_total=0\n",
    "    income_list=[]\n",
    "    expense_list=[]\n",
    "    \n",
    "    #classify and accumulate\n",
    "    for amount in transactions:\n",
    "        if amount > 0:\n",
    "            income_total+= amount\n",
    "            income_list.append(amount)\n",
    "        else:\n",
    "            expense_total += abs(amount) #convert to positive\n",
    "            expense_list.append(amount)\n",
    "    #calculate net balance\n",
    "    net_balance=income_total - expense_total\n",
    "    \n",
    "    #return all results as disctionary\n",
    "    return {\n",
    "        \"Total Income\": income_total,\n",
    "        \"Total Expense\": expense_total,\n",
    "        \"Net Balance\": net_balance,\n",
    "        \"Income Transactions\": income_list,\n",
    "        \"Expense Transactions\": expense_list\n",
    "    }\n",
    "transactions = [500,-200,100,-300,-100]\n",
    "\n",
    "result= analyze_transactions(transactions)\n",
    "\n",
    "#display neatly\n",
    "\n",
    "print(\"=== Transaction Summary ===\")\n",
    "print(f\"Total Income: {result['Total Income']}\")\n",
    "print(f\"Total Expense: {result['Total Expense']}\")\n",
    "print(f\"Net Balance: {result['Net Balance']}\")\n",
    "print(f\"Income Transactions: {result['Income Transactions']}\")\n",
    "print(f\"Expense Transactions: {result['Expense Transactions']}\")"
   ]
  },
  {
   "cell_type": "code",
   "execution_count": null,
   "id": "fe7e1879",
   "metadata": {},
   "outputs": [],
   "source": []
  }
 ],
 "metadata": {
  "kernelspec": {
   "display_name": "Python 3 (ipykernel)",
   "language": "python",
   "name": "python3"
  },
  "language_info": {
   "codemirror_mode": {
    "name": "ipython",
    "version": 3
   },
   "file_extension": ".py",
   "mimetype": "text/x-python",
   "name": "python",
   "nbconvert_exporter": "python",
   "pygments_lexer": "ipython3",
   "version": "3.10.9"
  }
 },
 "nbformat": 4,
 "nbformat_minor": 5
}
